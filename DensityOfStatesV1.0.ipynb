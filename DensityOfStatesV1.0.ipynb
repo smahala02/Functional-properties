{
 "cells": [
  {
   "cell_type": "markdown",
   "metadata": {},
   "source": [
    "# Histograms and densities of states\n",
    "In this notebook we will explore some of the ideas behind a density of states function, In particular, we will examine the notion of a probability distribution function (pdf) as the limit of a histogram with vanishingly small bin width.\n",
    "\n",
    "First import some useful functionality"
   ]
  },
  {
   "cell_type": "code",
   "execution_count": 106,
   "metadata": {
    "collapsed": true
   },
   "outputs": [],
   "source": [
    "from __future__ import division\n",
    "import numpy as np\n",
    "from pylab import *\n",
    "import matplotlib.pyplot as plt\n",
    "%matplotlib inline"
   ]
  },
  {
   "cell_type": "markdown",
   "metadata": {},
   "source": [
    "Now let's define a model density of states function:"
   ]
  },
  {
   "cell_type": "code",
   "execution_count": 107,
   "metadata": {
    "collapsed": false
   },
   "outputs": [],
   "source": [
    "bwidth = 10.0\n",
    "def f1(x):\n",
    "    return 1.0/(exp((0.2*bwidth-x)/(0.025*bwidth))+1.0)\n",
    "def f2(x):\n",
    "    return -1.0/(exp((1.2*bwidth-x)/(0.025*bwidth))+1.0)\n",
    "def f3(x):\n",
    "    return 10.0/(exp((0.8*bwidth-x)/(0.025*bwidth))+1.0)\n",
    "def f4(x):\n",
    "    return -10.0/(exp((0.85*bwidth-x)/(0.025*bwidth))+1.0)\n",
    "\n",
    "def g(x):\n",
    "    return (f1(x)+f2(x)+f3(x)+f4(x))/14.97\n",
    "\n",
    "# npts = 500\n",
    "# Elin = linspace(0,14,npts)\n",
    "# print(np.sum(g(Elin))*14/npts)\n"
   ]
  },
  {
   "cell_type": "markdown",
   "metadata": {},
   "source": [
    "And plot it:"
   ]
  },
  {
   "cell_type": "code",
   "execution_count": 108,
   "metadata": {
    "collapsed": false
   },
   "outputs": [
    {
     "data": {
      "text/plain": [
       "[<matplotlib.lines.Line2D at 0x1485d7278>]"
      ]
     },
     "execution_count": 108,
     "metadata": {},
     "output_type": "execute_result"
    },
    {
     "data": {
      "image/png": "[encoded data removed]",
      "text/plain": [
       "<matplotlib.figure.Figure at 0x1485d7c50>"
      ]
     },
     "metadata": {},
     "output_type": "display_data"
    }
   ],
   "source": [
    "npts = 500\n",
    "Elin = linspace(0,14,npts)\n",
    "plt.xlabel('Energy')\n",
    "plt.ylabel('')\n",
    "plt.plot(Elin,g(Elin))"
   ]
  },
  {
   "cell_type": "markdown",
   "metadata": {},
   "source": [
    "This is just a model function but it is not too crazy. It might plausibly represent the density of states of a transition metal with a broad sp-band and a sharp d-band. Note that this density of states function is a pdf for the energy of the states of the system. It is therefore normalised such that the total area under the curve is 1."
   ]
  },
  {
   "cell_type": "markdown",
   "metadata": {},
   "source": [
    "### Sampling a distribution\n",
    "Imagine we draw $n$ samples from the above distribution. The code below implements this sampling. Note that I am using a very simple sampling algorithm:\n",
    "- First I pick an energy $E_{\\mathrm{sample}}$ at random from somewhere in the range of the function (i.e. in the bandwidth)\n",
    "- Then I pick a random number number between 0 and 1\n",
    "- If this number is less than the value of $g(E_{\\mathrm{sample}})$ then I record $E_{\\mathrm{sample}}$ in my list of sampled energies. Otherwise I reject it and start again.\n",
    "- I carry on until I have successfully recorded my required number of sampel energies.\n",
    "\n",
    "There are more efficient ways than this to sample a general function, but this approach is fast enough for our purposes. The code outputs information about how many attempts I had to make in order to acheive the required number of samples."
   ]
  },
  {
   "cell_type": "code",
   "execution_count": 109,
   "metadata": {
    "collapsed": false
   },
   "outputs": [
    {
     "name": "stdout",
     "output_type": "stream",
     "text": [
      "Needed to draw: 524293 random numbers to obtain 100000 samples => 19% efficient\n"
     ]
    }
   ],
   "source": [
    "n = 100000 # Number of samples to collect\n",
    "Evals = np.zeros(n, dtype=float) # Array to hold smapled values\n",
    "\n",
    "maxe = 14.0 # Maximum energy covered by g(E)\n",
    "maxg = np.max(g(Elin)) # Find max value of g(E)\n",
    "\n",
    "i = 0 # Counter for recorded samples\n",
    "s = 0 # Counter for number of attempts to sample\n",
    "while i < n:\n",
    "    s = s + 1\n",
    "    E = maxe*random()\n",
    "    if maxg*random() < g(E):\n",
    "        Evals[i] = E\n",
    "        i = i + 1        \n",
    "\n",
    "print('Needed to draw: ' + str(s) + ' random numbers to obtain ' + str(n) + ' samples => ' + str(int(100*n/s)) + '% efficient')"
   ]
  },
  {
   "cell_type": "markdown",
   "metadata": {},
   "source": [
    "I've drawn a very large number of samples because we will need them below."
   ]
  },
  {
   "cell_type": "markdown",
   "metadata": {},
   "source": [
    "### Plotting a bar chart\n",
    "The simplest way to show these data is in a bar chart. For each range of energy we simple count the number of samples in each \"bin\":"
   ]
  },
  {
   "cell_type": "code",
   "execution_count": 110,
   "metadata": {
    "collapsed": false
   },
   "outputs": [
    {
     "data": {
      "image/png": "[encoded data removed]",
      "text/plain": [
       "<matplotlib.figure.Figure at 0x148ddfa90>"
      ]
     },
     "metadata": {},
     "output_type": "display_data"
    }
   ],
   "source": [
    "nbins = 10\n",
    "plt.xlabel('Energy')\n",
    "plt.ylabel('Samples')\n",
    "plt.hist(Evals, bins=nbins);"
   ]
  },
  {
   "cell_type": "markdown",
   "metadata": {},
   "source": [
    "This is a reasonable graphical representation of the data, and we can see the form of our density of states function in there, but the plot is dependent on the number of bins used:"
   ]
  },
  {
   "cell_type": "code",
   "execution_count": 111,
   "metadata": {
    "collapsed": false
   },
   "outputs": [
    {
     "data": {
      "image/png": "[encoded data removed]",
      "text/plain": [
       "<matplotlib.figure.Figure at 0x149c52a90>"
      ]
     },
     "metadata": {},
     "output_type": "display_data"
    }
   ],
   "source": [
    "nbins = 10\n",
    "plt.xlabel('Energy')\n",
    "plt.ylabel('Samples')\n",
    "plt.hist(Evals, bins=nbins);\n",
    "\n",
    "nbins = 20\n",
    "plt.hist(Evals, bins=nbins);"
   ]
  },
  {
   "cell_type": "markdown",
   "metadata": {},
   "source": [
    "### Plotting a histogram\n",
    "This dependence of the appearance of the chart on the somewhat arbitrary choice of the number of bins is annoying. Instead of a bar chart we could plot a histogram. With a histogram, the height of each bar is normalised by its width such that the *area* of each bar is constant as its width is varied. The total area of all the bars is also the same, irrespective of how the data are binned. Python will mke this normalisation for you if you give the option `normed=1`. Here's an example:"
   ]
  },
  {
   "cell_type": "code",
   "execution_count": 112,
   "metadata": {
    "collapsed": false
   },
   "outputs": [
    {
     "data": {
      "image/png": "[encoded data removed]",
      "text/plain": [
       "<matplotlib.figure.Figure at 0x14a364cc0>"
      ]
     },
     "metadata": {},
     "output_type": "display_data"
    }
   ],
   "source": [
    "nbins = 10\n",
    "plt.xlabel('Energy')\n",
    "plt.hist(Evals, nbins, normed=1);\n",
    "\n",
    "nbins =20\n",
    "plt.hist(Evals, nbins, normed=1, facecolor='none', linewidth=2);"
   ]
  },
  {
   "cell_type": "markdown",
   "metadata": {},
   "source": [
    "I've drawn on histogram on top of the other so that you can see that the shape of the plot no longer depends on the choice of binning. The total area of all the bars is now equal to 1 for all binning choices."
   ]
  },
  {
   "cell_type": "markdown",
   "metadata": {},
   "source": [
    "### The limit of many bins\n",
    "The reason that we originally drew so many samples from $g(E)$ will now bcome apparent. A pdf (which is what $g(E)$ is) can be thought of as a limit of a histogram in which the bin width is allowed to tend to zero (i.e. with an infinite number of bins. We can't manage an infinite number of bins but we can choose a pretty large number. Below we compare a histogram (in blue) with very many bins to the original function $g(E)$ (in red) which we used as a pdf to draw the sample of energies."
   ]
  },
  {
   "cell_type": "code",
   "execution_count": 113,
   "metadata": {
    "collapsed": false
   },
   "outputs": [
    {
     "data": {
      "text/plain": [
       "[<matplotlib.lines.Line2D at 0x14a638dd8>]"
      ]
     },
     "execution_count": 113,
     "metadata": {},
     "output_type": "execute_result"
    },
    {
     "data": {
      "image/png": "[encoded data removed]",
      "text/plain": [
       "<matplotlib.figure.Figure at 0x147c6dbe0>"
      ]
     },
     "metadata": {},
     "output_type": "display_data"
    }
   ],
   "source": [
    "nbins = 1000\n",
    "plt.xlabel('Energy')\n",
    "plt.hist(Evals, nbins, normed=1, linewidth=0)\n",
    "plt.plot(Elin,g(Elin), 'r', linewidth=2)\n"
   ]
  },
  {
   "cell_type": "code",
   "execution_count": null,
   "metadata": {
    "collapsed": true
   },
   "outputs": [],
   "source": []
  }
 ],
 "metadata": {
  "kernelspec": {
   "display_name": "Python [Root]",
   "language": "python",
   "name": "Python [Root]"
  },
  "language_info": {
   "codemirror_mode": {
    "name": "ipython",
    "version": 3
   },
   "file_extension": ".py",
   "mimetype": "text/x-python",
   "name": "python",
   "nbconvert_exporter": "python",
   "pygments_lexer": "ipython3",
   "version": "3.5.2"
  }
 },
 "nbformat": 4,
 "nbformat_minor": 0
}
